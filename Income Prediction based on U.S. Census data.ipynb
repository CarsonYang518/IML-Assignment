{
 "cells": [
  {
   "cell_type": "markdown",
   "metadata": {},
   "source": [
    "# Assignment 2: Income Prediction based on U.S. Census data"
   ]
  },
  {
   "cell_type": "markdown",
   "metadata": {},
   "source": [
    "Student Name:Kaixun Yang\n",
    "\n",
    "Student ID:"
   ]
  },
  {
   "cell_type": "markdown",
   "metadata": {},
   "source": [
    "# General Info\n",
    "\n",
    "<b>Due date</b>: Friday, 16 Apr 2021 5pm\n",
    "\n",
    "<b>Submission method</b>: Canvas submission\n",
    "\n",
    "<b>Submission materials</b>: completed copy of this iPython notebook\n",
    "\n",
    "<b>Late submissions</b>: -10% per day (both week and weekend days counted)\n",
    "\n",
    "<b>Marks</b>: 15% of mark for class \n",
    "\n",
    "<b>Materials</b>: See [Using Jupyter Notebook and Python page](https://canvas.lms.unimelb.edu.au/courses/105477/pages/python-and-jupyter-notebooks?module_item_id=2613813) on Canvas (under Modules>Resources) for information on the basic setup required for this class, including an iPython notebook viewer and some handy python packages including Numpy, Scipy, Matplotlib, Scikit-Learn, and Gensim. You can use any Python built-in packages, but do not use any other 3rd party packages (the packages listed above are all fine to use); if your iPython notebook doesn't run on the marker's machine, you will lose marks. <b> You should use Python 3</b>.  \n",
    "\n",
    "<b>Evaluation</b>: Your iPython notebook should run end-to-end without any errors in a reasonable amount of time, and you must follow all instructions provided below, including specific implementation requirements and instructions for what needs to be printed (please avoid printing output we don't ask for). You should edit the sections below where requested, but leave the rest of the code as is. You should leave the output from running your code in the iPython notebook you submit, to assist with marking. The amount each section is worth is given in parenthesis after the instructions. \n",
    "\n",
    "You should be careful to use Python built-in functions and operators when appropriate and pick descriptive variable names that adhere to <a href=\"https://www.python.org/dev/peps/pep-0008/\">Python style requirements</a>. If you think it might be unclear what you are doing, you should comment your code to help the marker make sense of it. While the main focus is on correctness of your methods, you will lose marks if your code is not understandable.\n",
    "\n",
    "<b>Updates</b>: Any major changes to the assignment will be announced via Canvas. Minor changes and clarifications will be announced on the discussion board; we recommend you check it regularly.\n",
    "\n",
    "<b>Academic misconduct</b>: For most people, collaboration will form a natural part of the undertaking of this homework, and we encourge you to discuss it in general terms with other students. However, this ultimately is still an individual task, and so reuse of code or other instances of clear influence will be considered cheating. We will be checking submissions for originality and will invoke the University’s <a href=\"http://academichonesty.unimelb.edu.au/policy.html\">Academic Misconduct policy</a> where inappropriate levels of collusion or plagiarism are deemed to have taken place.\n"
   ]
  },
  {
   "cell_type": "markdown",
   "metadata": {},
   "source": [
    "## Overview\n",
    "\n",
    "In this assignment, you will be working with the famous *Adult* a data set containing demographic and income data from the united states in 1994. The dataset provided for this assignment is derived from <a href=\"http://archive.ics.uci.edu/ml/datasets/Adult\">this</a> resource. The data set consists of about 48,000 individuals each characterized through a set of 14 attributes. Your task is to predict whether the individual earns up to \\\\$ 50,000 a year (<=50K) or more than \\\\$50,000 per year (>50K).\n",
    "\n",
    "The attributes are\n",
    "\n",
    "|ID|Feature Name| Feature Type | Feature Values|\n",
    "| :-| :-| :-| :-|\n",
    "|0|age| continuous| |\n",
    "|1|workclass| categorical | Private, Self-emp-not-inc, Self-emp-inc, Federal-gov, Local-gov, State-gov, ?|\n",
    "|2|fnlwgt| continuous| |\n",
    "|3|education|  categorical |Bachelors, Some-college, 11th, HS-grad, Prof-school, Assoc-acdm, Assoc-voc, 9th, 7th-8th, 12th, Masters, 1st-4th, 10th, Doctorate, 5th-6th, Preschool|\n",
    "|4|education-num| continuous| |\n",
    "|5|marital-status|  categorical |Married-civ-spouse, Divorced, Never-married, Separated, Widowed, Married-spouse-absent, Married-AF-spouse|\n",
    "|6|occupation|  categorical |Tech-support, Craft-repair, Other-service, Sales, Exec-managerial, Prof-specialty, Handlers-cleaners, Machine-op-inspct, Adm-clerical, Farming-fishing, Transport-moving, Priv-house-serv, Protective-serv, Armed-Forces, ?|\n",
    "|7|relationship|  categorical |Wife, Own-child, Husband, Not-in-family, Other-relative, Unmarried|\n",
    "|8|race|  categorical |White, Asian-Pac-Islander, Amer-Indian-Eskimo, Other, Black|\n",
    "|9|sex|  categorical |Female, Male|\n",
    "|10|capital-gain| continuous| |\n",
    "|11|capital-loss| continuous| |\n",
    "|12|hours-per-week| continuous| |\n",
    "|13|native-country|  categorical |United-States, Cambodia, England, Puerto-Rico, Canada, Germany, India, Japan, Greece, South, China, Cuba, Iran, Honduras, Philippines, Italy, Poland, Jamaica, Vietnam, Mexico, Portugal, Ireland, France, Dominican-Republic, Laos, Ecuador, Taiwan, Haiti, Columbia, Hungary, Guatemala, Nicaragua, Scotland, Thailand, Yugoslavia, El-Salvador, Trinadad&Tobago, Peru, Hong, ?|\n",
    "\n",
    "You can find out more about the individual attributes / values, and the origin of the data set in the <a href=\"https://archive.ics.uci.edu/ml/machine-learning-databases/adult/adult.names\"> data set description</a>  \n",
    "\n",
    "\n",
    "You will build a number of classifiers to predict the income class based on the attributes above.\n",
    "\n",
    "\n",
    "#### The following instructions hold for every question in the assignment\n",
    "- leave the order of instances intact, i.e., do not shuffle the data\n",
    "- do not change the names or types of variables provided by us in the code cells below\n",
    "- '?' denotes an unknown value, and you should treat it as just another value for its feature in all tasks below."
   ]
  },
  {
   "cell_type": "markdown",
   "metadata": {},
   "source": [
    "## Question 1: Loading and pre-processing the data (1 mark)\n",
    "\n",
    "You were provide two data files:\n",
    "\n",
    "**adult.train** contains about 32,000 training instances, one instance per line in comma-separated value (csv) format. Each line contains 14 fields. The first 13 fields correspond to the features listed above, the final field denotes the class label\n",
    "\n",
    "**adult.test** is formatted exactly like adult.train, and contains about 16,000 further instances for evaluation.\n"
   ]
  },
  {
   "cell_type": "markdown",
   "metadata": {},
   "source": [
    "### 1a Read the data [0.5 marks]\n",
    "\n",
    "First, you will read in the data and create traing features, training labels, test features and test labels. Do not apply any data transformations."
   ]
  },
  {
   "cell_type": "code",
   "execution_count": 32,
   "metadata": {},
   "outputs": [
    {
     "data": {
      "text/plain": [
       "(32525, 32525, 16262, 16262, 14, 14)"
      ]
     },
     "execution_count": 32,
     "metadata": {},
     "output_type": "execute_result"
    }
   ],
   "source": [
    "# load data\n",
    "\n",
    "\n",
    "data = open(\"adult.train\",'r').readlines()\n",
    "test_data = open(\"adult.test\",'r').readlines()\n",
    "\n",
    "x_train = []\n",
    "y_train = []\n",
    "x_test = []\n",
    "y_test = []\n",
    "\n",
    "############################\n",
    "## your code begins here\n",
    "############################\n",
    "\n",
    "for train_instance in data:\n",
    "    train_instance = train_instance.strip()\n",
    "    train_instance = train_instance.split(\", \")\n",
    "    x_train.append(train_instance[:14])\n",
    "    y_train.append(train_instance[14])\n",
    "\n",
    "for test_instance in test_data:\n",
    "    test_instance = test_instance.strip()\n",
    "    test_instance = test_instance.split(\", \")\n",
    "    x_test.append(test_instance[:14])\n",
    "    y_test.append(test_instance[14])\n",
    "\n",
    "############################\n",
    "## your code ends here\n",
    "############################\n",
    "\n",
    "len(x_train), len(y_train), len(x_test), len(y_test), len(x_train[0]), len(x_test[0])\n"
   ]
  },
  {
   "cell_type": "markdown",
   "metadata": {},
   "source": [
    "<b>For your testing:</b>"
   ]
  },
  {
   "cell_type": "code",
   "execution_count": 33,
   "metadata": {},
   "outputs": [],
   "source": [
    "assert len(x_train)==len(y_train)==32525\n",
    "assert len(x_train[0])==len(x_test[0])==14"
   ]
  },
  {
   "cell_type": "markdown",
   "metadata": {},
   "source": [
    "### 1b: Attribute Types [0.5 marks]\n",
    "\n",
    "You will create three feature representations, based on the different attribute types (categorical, numeric) in the original *Adult* data.\n",
    "\n",
    "**Your tasks**\n",
    "\n",
    "Denote with $I$ the number of training instances; $N$ the number of numeric features in the data set; and $v_f$ the number of possible values for feature $f$.\n",
    "\n",
    "1. Create a train data set with only numeric features `x_train_num` (size $(I\\times N)$); and equivaluently a test data set `x_test_num`\n",
    "2. Create a train data set with only categorical features *in a 1-hot representation* `x_train_1hot` (size $(I\\times\\sum_f v_f)$); and equivalently a test data set `x_test_1hot`\n",
    "3. Create a train data set with both numeric and 1-hot categorical features `x_train_full` (size $I \\times N+\\sum_f v_f$) where the first $N$ columns represent the numerical features and the remaining columns the categorical features; and equivalently a test data set `x_test_full`\n",
    "\n",
    "**Note:** You may use classes and functions from ```scikit-learn```.\n",
    "\n"
   ]
  },
  {
   "cell_type": "code",
   "execution_count": 34,
   "metadata": {},
   "outputs": [],
   "source": [
    "x_train_num = []\n",
    "x_test_num = []\n",
    "\n",
    "x_train_1hot = []\n",
    "x_test_1hot = []\n",
    "\n",
    "x_train_full = []\n",
    "x_test_full = []\n",
    "\n",
    "################################\n",
    "### Your code begins here ######\n",
    "################################\n",
    "\n",
    "from sklearn import preprocessing\n",
    "onehot_feature_names = dict()\n",
    "for train_instance in x_train:\n",
    "    num_feature = [int(train_instance[0]), int(train_instance[2]), int(train_instance[4]),\n",
    "                   int(train_instance[10]), int(train_instance[11]),int(train_instance[12])]\n",
    "    x_train_num.append(num_feature)\n",
    "\n",
    "for test_instance in x_test:\n",
    "    num_feature = [int(test_instance[0]), int(test_instance[2]), int(test_instance[4]),\n",
    "                   int(test_instance[10]), int(test_instance[11]),int(test_instance[12])]\n",
    "    x_test_num.append(num_feature)\n",
    "    \n",
    "x_train_1hot_temp = []\n",
    "for train_instance in x_train:\n",
    "    category_feature = [train_instance[1], train_instance[3], train_instance[5], train_instance[6],\n",
    "                        train_instance[7], train_instance[8], train_instance[9], train_instance[13]]\n",
    "    x_train_1hot_temp.append(category_feature)\n",
    "\n",
    "x_test_1hot_temp = []\n",
    "for test_instance in x_test:\n",
    "    category_feature = [test_instance[1], test_instance[3], test_instance[5], test_instance[6],\n",
    "                        test_instance[7], test_instance[8], test_instance[9], test_instance[13]]\n",
    "    x_test_1hot_temp.append(category_feature)\n",
    "\n",
    "enc = preprocessing.OneHotEncoder(dtype=int)\n",
    "enc.fit(x_train_1hot_temp)\n",
    "x_train_1hot = enc.fit_transform(x_train_1hot_temp).toarray().tolist()\n",
    "x_test_1hot = enc.fit_transform(x_test_1hot_temp).toarray().tolist()\n",
    "\n",
    "for i in range(len(x_train)):\n",
    "    temp = x_train_num[i] + x_train_1hot[i]\n",
    "    x_train_full.append(temp)\n",
    "\n",
    "for i in range(len(x_test)):\n",
    "    temp = x_test_num[i] + x_test_1hot[i]\n",
    "    x_test_full.append(temp)\n",
    "\n",
    "################################\n",
    "### Your code ends here ########\n",
    "################################\n",
    "\n"
   ]
  },
  {
   "cell_type": "markdown",
   "metadata": {},
   "source": [
    "<b> For your testing</b>"
   ]
  },
  {
   "cell_type": "code",
   "execution_count": 35,
   "metadata": {},
   "outputs": [],
   "source": [
    "assert len(x_train_1hot[0])==98\n",
    "assert len(x_train_full[0])==104"
   ]
  },
  {
   "cell_type": "markdown",
   "metadata": {},
   "source": [
    "## Question 2: A 0-R baseline [0.5 marks]\n",
    "\n",
    "Implement a zero-r baseline, as introduced in the Evaluation lecture."
   ]
  },
  {
   "cell_type": "code",
   "execution_count": 36,
   "metadata": {},
   "outputs": [
    {
     "name": "stdout",
     "output_type": "stream",
     "text": [
      "The marority class is: <=50K\n"
     ]
    }
   ],
   "source": [
    "from collections import Counter\n",
    "\n",
    "majority_class = \"\"\n",
    "zero_r_predictions = []\n",
    "\n",
    "############################\n",
    "## your code begins here\n",
    "############################\n",
    "\n",
    "countMap = Counter(y_train)\n",
    "sortedCountMap = sorted(countMap.items(), key=lambda item:item[1])\n",
    "majority_class = sortedCountMap[-1][0]\n",
    "for i in range(len(x_test)):\n",
    "    zero_r_predictions.append(majority_class)\n",
    "\n",
    "############################\n",
    "## your code ends here\n",
    "############################\n",
    "\n",
    "print(f\"The marority class is: {majority_class}\")\n"
   ]
  },
  {
   "cell_type": "markdown",
   "metadata": {},
   "source": [
    "## Question 3: Feature selection [2 marks]\n",
    "\n",
    "In this question you will implement pointwise mutual information (PMI) for feature selection (Question 3a)\n",
    "\n",
    "In question 3a. you will use the implemented function to create a 1-R classifier based on the single 1-hot attribute  (i.e., categorical feature value) with highest PMI for class \">50K\". \n",
    "```\n",
    "argmax_a pmi(a=1,c=\">50K\")\n",
    "```\n",
    "In question 3b. you will apply your 1-R classifier to the test instances, and store your predicted labels in `one_r_predictions`.\n",
    "\n",
    "<b> You should implement PMI from scratch yourself. You may use native Python libraries like math or numpy to help you, but you may not use existing implementations of PMI.</b>\n",
    "\n"
   ]
  },
  {
   "cell_type": "markdown",
   "metadata": {},
   "source": [
    "### 3a. Implement PMI [1 mark]\n",
    "\n",
    "Implement a function to compute PMI.\n"
   ]
  },
  {
   "cell_type": "code",
   "execution_count": 37,
   "metadata": {},
   "outputs": [],
   "source": [
    "'''\n",
    "PMI: A function to compute the pointwise mutual information between \n",
    "all features in the data set and a target class of interest\n",
    "Input: - features for N input instances\n",
    "       - labels for N input instances\n",
    "       - target feature value (default=1)\n",
    "       - target class (fdefault='>50K')\n",
    "Output: a dictionary of the form {feature: ppmi} where each \n",
    "        feature is denoted by its ID (position in the 1-hot encoded representatoin)\n",
    "\n",
    "'''\n",
    "\n",
    "############################\n",
    "## your code begins here\n",
    "############################\n",
    "\n",
    "from collections import Counter\n",
    "import math\n",
    "def pmi(features, labels, tgt_value=1, tgt_class=\">50K\"):\n",
    "    pmis = {}\n",
    "    classCountMap = Counter(labels)\n",
    "    P_tgt_class = classCountMap[tgt_class]/len(labels)\n",
    "    for j in range(len(features[0])):\n",
    "        feature_values = list([features[i][j] for i in range(len(features))])\n",
    "        countMap = Counter(feature_values)\n",
    "        P_tgt_value = countMap[tgt_value]/len(feature_values)\n",
    "        jointCount = 0\n",
    "        for k in range(len(feature_values)):\n",
    "            if feature_values[k]==tgt_value and labels[k]==tgt_class:\n",
    "                jointCount += 1\n",
    "        P_joint = jointCount/len(feature_values)\n",
    "        temp_value = P_joint/(P_tgt_class*P_tgt_value)\n",
    "        if temp_value==0:\n",
    "            pmis[j] = float('-inf')\n",
    "        else:\n",
    "            pmis[j] = math.log(temp_value ,2)        \n",
    "    return pmis\n",
    "\n",
    "############################\n",
    "## your code ends here\n",
    "############################\n"
   ]
  },
  {
   "cell_type": "markdown",
   "metadata": {},
   "source": [
    "<b>For your testing:</b>"
   ]
  },
  {
   "cell_type": "code",
   "execution_count": 38,
   "metadata": {},
   "outputs": [],
   "source": [
    "test_features = [[1,1], [1,0], [0,1], [0,0]]\n",
    "test_labels = [1,1,0,0]\n",
    "test_pmi = pmi(test_features, test_labels, tgt_class=1)\n",
    "\n",
    "# where the index 0 refers to \"feature 1\" and index 1 refers to \"feature 2\"\n",
    "assert test_pmi[0]==1.0\n",
    "assert test_pmi[1]==0.0"
   ]
  },
  {
   "cell_type": "markdown",
   "metadata": {},
   "source": [
    "### 3b Create 1-R baseline [1 mark]\n",
    "\n",
    "- Apply your PMI function to the *1_hot feature representation* of training data, and determine the (i) 1-hot feature with *highest* PMI with class '>50K' () and (ii) 1-hot feature with *lowest* (most negative) PMI with class '>50K'. Store the name (string) of the corresponding highest/lowest PMI features in `highest_pmi_feature_name` and `lowest_pmi_feature_name`, respectively.\n",
    "\n",
    "- The feature with *highest* PMI will consitute your 1-R predictor, which you should use to predict the class labels for the test set (`one_r_predictions`)"
   ]
  },
  {
   "cell_type": "code",
   "execution_count": 39,
   "metadata": {},
   "outputs": [
    {
     "name": "stdout",
     "output_type": "stream",
     "text": [
      "['<=50K', '<=50K', '<=50K', '<=50K', '<=50K', '<=50K', '<=50K', '<=50K', '<=50K', '<=50K']\n",
      "The feature with highest PMI for the class '>50K' is: Doctorate\n",
      "The feature with lowest PMI for the class '>50K' is: Preschool\n"
     ]
    }
   ],
   "source": [
    "one_r_predictions = []\n",
    "\n",
    "highest_pmi_feature_name = \"\" # feature with highest PMI\n",
    "lowest_pmi_feature_name = \"\" # feature with lowest PMI\n",
    "\n",
    "############################\n",
    "## your code begins here\n",
    "############################\n",
    "\n",
    "onehot_feature_names = list()\n",
    "for category in enc.categories_:\n",
    "    onehot_feature_names.extend(category)\n",
    "\n",
    "pmis = pmi(x_train_1hot, y_train, tgt_value=1, tgt_class=\">50K\")\n",
    "sortPmis = sorted(pmis.items(), key=lambda item:item[1])\n",
    "top_feature = sortPmis[-1][0]\n",
    "low_feature = sortPmis[0][0]\n",
    "highest_pmi_feature_name = onehot_feature_names[top_feature]\n",
    "lowest_pmi_feature_name = onehot_feature_names[low_feature]\n",
    "\n",
    "fearuren0_more = 0\n",
    "fearuren0_less = 0\n",
    "fearuren0_majority = \"\"\n",
    "feature_values = list([x_train_1hot[i][top_feature] for i in range(len(x_train_1hot))])\n",
    "\n",
    "for i in range(len(feature_values)):\n",
    "    if feature_values[i]==0 and y_train[i] == \">50K\":\n",
    "        fearuren0_more += 1\n",
    "    if feature_values[i]==0 and y_train[i] == \"<=50K\":\n",
    "        fearuren0_less += 1\n",
    "        \n",
    "if fearuren0_more > fearuren0_less:\n",
    "    fearuren0_majority = \">50K\"\n",
    "else:\n",
    "    fearuren0_majority = \"<=50K\"\n",
    "\n",
    "for test_1hot in x_test_1hot:\n",
    "    if test_1hot[top_feature] == 1:\n",
    "        one_r_predictions.append(\">50K\")\n",
    "    else:\n",
    "        one_r_predictions.append(fearuren0_majority)\n",
    "\n",
    "############################\n",
    "## your code ends here\n",
    "############################\n",
    "print(one_r_predictions[:10])\n",
    "print(f\"The feature with highest PMI for the class '>50K' is: {highest_pmi_feature_name}\")\n",
    "print(f\"The feature with lowest PMI for the class '>50K' is: {lowest_pmi_feature_name}\")"
   ]
  },
  {
   "cell_type": "markdown",
   "metadata": {},
   "source": [
    "## Question 4: Naive Bayes [3 marks]\n",
    "\n",
    "We will construct three Naive Bayes classifiers\n",
    "\n",
    "1. One for instances with only 1-hot encoded (binary) categorical attributes.\n",
    "2. One for instances with only numerical attributes.\n",
    "3. One for instances with the full set of numerical *and* categorical attributes, ensuring that your classifier computes posterior class probabilities $p(y|x)$ as $p(x|y)p(y)$.\n",
    "\n",
    "For each classifier, you will \n",
    "1. Train it on the training set\n",
    "2. Use the models to predict labels for the test set\n"
   ]
  },
  {
   "cell_type": "markdown",
   "metadata": {},
   "source": [
    "### 4a Implementing the Naive Bayes classifiers [1.5 marks]\n",
    "\n",
    "Implement three functions which train a NB classifier given the specified input feature types and predict labels for a given test set.\n",
    "\n",
    "You may add additional quantities to your `return` statements.\n",
    "\n",
    "<b> You may (and are, indeed, encouraged) to, use the existing NB implementations from `sklearn`. You should use the default parameterizations of these algorithms.</b> \n",
    "    \n",
    "If you choose to implement your classifiers from scratch, please use Laplace smoothing (alpha=1) for the categorical feature NB.\n"
   ]
  },
  {
   "cell_type": "code",
   "execution_count": 40,
   "metadata": {},
   "outputs": [],
   "source": [
    "\n",
    "##################################\n",
    "## your code begins here\n",
    "##################################\n",
    "\n",
    "from sklearn.naive_bayes import GaussianNB\n",
    "from sklearn.naive_bayes import BernoulliNB\n",
    "import math\n",
    "\n",
    "def nb_binary_features(train_features, train_labels, test_features):\n",
    "    predictions = []\n",
    "    model = BernoulliNB()\n",
    "    model.fit(train_features, train_labels)\n",
    "    predictions = model.predict(test_features)\n",
    "    return predictions\n",
    "\n",
    "\n",
    "def nb_continuous_features(train_features, train_labels, test_features):\n",
    "    predictions = []\n",
    "    model = GaussianNB()\n",
    "    model.fit(train_features, train_labels)\n",
    "    predictions = model.predict(test_features)\n",
    "    return predictions\n",
    "\n",
    "\n",
    "def nb_full(train_features, train_labels, test_features):    \n",
    "    predictions = []\n",
    "    binary_train_features = list()\n",
    "    continuous_train_features = list()\n",
    "    binary_test_features = list()\n",
    "    continuous_test_features = list()\n",
    "    \n",
    "    for train_feature in train_features:\n",
    "        binary_train_features.append(train_feature[:6])\n",
    "        continuous_train_features.append(train_feature[6:])\n",
    "\n",
    "    for test_feature in test_features:\n",
    "        binary_test_features.append(test_feature[:6])\n",
    "        continuous_test_features.append(test_feature[6:])\n",
    "        \n",
    "    Bermodel = BernoulliNB()\n",
    "    Bermodel.fit(binary_train_features, train_labels)\n",
    "    Gaumodel = GaussianNB()\n",
    "    Gaumodel.fit(continuous_train_features, train_labels)\n",
    "    \n",
    "    binary_train_proba = Bermodel.predict_proba(binary_train_features)\n",
    "    continuous_train_proba = Gaumodel.predict_proba(continuous_train_features)\n",
    "    new_train_features = list()\n",
    "    for i in range(len(train_features)):\n",
    "        temp = [binary_train_proba[i][0], continuous_train_proba[i][0]]\n",
    "        new_train_features.append(temp)\n",
    "        \n",
    "    binary_test_proba = Bermodel.predict_proba(binary_test_features)\n",
    "    continuous_test_proba = Gaumodel.predict_proba(continuous_test_features)\n",
    "    new_test_features = list()\n",
    "    for i in range(len(test_features)):\n",
    "        temp = [binary_test_proba[i][0], continuous_test_proba[i][0]]\n",
    "        new_test_features.append(temp)\n",
    "\n",
    "    NewGaumodel = GaussianNB()\n",
    "    NewGaumodel.fit(new_train_features, train_labels)\n",
    "    predictions = NewGaumodel.predict(new_test_features)\n",
    "    return predictions\n",
    "\n",
    "############################\n",
    "## your code ends here\n",
    "############################\n"
   ]
  },
  {
   "cell_type": "markdown",
   "metadata": {},
   "source": [
    "### 4b Apply your classifiers to the data sets you created in Questions 1 and 3b [0.5 marks]\n",
    "\n",
    "...namely, the\n",
    "\n",
    "1. 1-hot categorical features `x_{train,test}_1hot`\n",
    "2. numerical features `x_{train,test}_num`\n",
    "3. combined numerical and 1-hot categorical features `x_{train,test}_full`\n"
   ]
  },
  {
   "cell_type": "code",
   "execution_count": 41,
   "metadata": {},
   "outputs": [
    {
     "name": "stdout",
     "output_type": "stream",
     "text": [
      "Numerical NB predicted class distribution \t Counter({'<=50K': 14440, '>50K': 1822})\n",
      "Categorical NB predicted class distribution\t Counter({'<=50K': 10046, '>50K': 6216})\n",
      "Full NB predicted class distribution\t Counter({'<=50K': 14396, '>50K': 1866})\n"
     ]
    }
   ],
   "source": [
    "from collections import Counter\n",
    "\n",
    "############################\n",
    "## your code begins here\n",
    "############################\n",
    "\n",
    "categorical_nb_predictions = nb_binary_features(x_train_1hot, y_train, x_test_1hot)\n",
    "numeric_nb_predictions = nb_continuous_features(x_train_num, y_train, x_test_num)\n",
    "full_nb_predictions = nb_full(x_train_full, y_train, x_test_full)\n",
    "\n",
    "############################\n",
    "## your code ends here\n",
    "############################\n",
    "\n",
    "print(f\"Numerical NB predicted class distribution \\t {Counter(numeric_nb_predictions)}\")\n",
    "print(f\"Categorical NB predicted class distribution\\t {Counter(categorical_nb_predictions)}\")\n",
    "print(f\"Full NB predicted class distribution\\t {Counter(full_nb_predictions)}\")\n"
   ]
  },
  {
   "cell_type": "markdown",
   "metadata": {},
   "source": [
    "\n",
    "### 4c Explain your Naive Bayes classifier implementation on the full attribute set (numerical and binary features). [1 mark]\n",
    "\n",
    "Please limit your answer to 2-3 sentences\n"
   ]
  },
  {
   "cell_type": "markdown",
   "metadata": {},
   "source": [
    "For binary features, I use BernoulliNB to get $ P(class1 \\mid binaryfeatures) $.  \n",
    "For numerical features, I use GaussianNB to get $ P(class1 \\mid numericalfeatures) $.  \n",
    "For the full attribute set, I use the probability of the first two models for each instance as the new training data, the new features are $ P(class1 \\mid binaryfeatures) $ and $ P(class1 \\mid numericalfeatures) $, because probability is numerical, I train the final GaussianNB model based on the new training data."
   ]
  },
  {
   "cell_type": "markdown",
   "metadata": {},
   "source": [
    "## Question 5: Logistic Regression [2.5 marks]\n",
    "\n",
    "Apply a Logistic Regression classifier to the full training data set (`x_{train,test}_full`)\n",
    "\n",
    "<b> Use the existing implementation in sklearn with default parameters. </b>"
   ]
  },
  {
   "cell_type": "markdown",
   "metadata": {},
   "source": [
    "### 5a The Logistic Regression classifier [0.5 marks]"
   ]
  },
  {
   "cell_type": "code",
   "execution_count": 42,
   "metadata": {},
   "outputs": [
    {
     "name": "stdout",
     "output_type": "stream",
     "text": [
      "The largest coefficient feature name: capital-loss\n",
      "The second largest coefficient feature name: Married-civ-spouse\n",
      "The highest PMI feature name: Doctorate\n",
      "LR predicted class distribution\t Counter({'<=50K': 14837, '>50K': 1425})\n"
     ]
    }
   ],
   "source": [
    "from sklearn.linear_model import LogisticRegression\n",
    "\n",
    "lr_predictions = []\n",
    "\n",
    "############################\n",
    "## your code begins here\n",
    "############################\n",
    "\n",
    "LRmodel = LogisticRegression()\n",
    "LRmodel.fit(x_train_full, y_train)\n",
    "lr_predictions = LRmodel.predict(x_test_full)\n",
    "\n",
    "#For question 5b Part1:\n",
    "feature_weight = dict()\n",
    "for i in range(len(LRmodel.coef_[0])):\n",
    "    feature_weight[i] = LRmodel.coef_[0][i]\n",
    "sort_feature_weight = sorted(feature_weight.items(), key=lambda item:item[1])\n",
    "feature_names = ['age', 'fnlwgt', 'education-num', 'capital-gain', 'capital-loss', 'hours-per-week'] + onehot_feature_names\n",
    "largest_coefficient_feature_name = feature_names[sort_feature_weight[-1][0]]\n",
    "Second_coefficient_largest_feature_name = feature_names[sort_feature_weight[-2][0]]\n",
    "print(\"The largest coefficient feature name: \"+ largest_coefficient_feature_name)\n",
    "print(\"The second largest coefficient feature name: \"+ Second_coefficient_largest_feature_name)\n",
    "print(\"The highest PMI feature name: \" + onehot_feature_names[sortPmis[-1][0]])\n",
    "\n",
    "############################\n",
    "## your code ends here\n",
    "############################\n",
    "\n",
    "print(f\"LR predicted class distribution\\t {Counter(lr_predictions)}\")"
   ]
  },
  {
   "cell_type": "markdown",
   "metadata": {},
   "source": [
    "### 5b Inspect the learnt coefficients [2 marks]\n",
    "\n",
    "**Part 1**\n",
    "Inspect the coefficients (weights) learnt by the classifier, and compare them to the PMI values in Question 1. You should update your code above in order to achieve this. Please indicate through comments which parts of the code are relevant to question 5b.\n",
    "\n",
    "**Part 2**\n",
    "What does a high coefficient for a feature imply? For which two features does your model learn the largest coefficients? Compare your answer to the highest PMI features you detected in Q3."
   ]
  },
  {
   "cell_type": "markdown",
   "metadata": {},
   "source": [
    "A high coefficient for a feature implies that changing of the feature value has great impact on the predict value.  \n",
    "Feature capital-loss and feature Married-civ-spouse have the two largest coefficients.  \n",
    "The feature (capital-loss) with largest coefficient in LR is not the highest PMI feature (Doctorate). I think there are some reasons:  \n",
    "Firstly, PMI only calculated the correlations between one-hot features and class, but coefficients are for both one-hot features and numerical features.  \n",
    "Secondly, the value of one-hot features can only be either 0 or 1, but the value of numerical features can be arbitrary number(need to meet some restrictions), and I didn't standardize or normalize the data for LR.  \n",
    "Thirdly, high PMI shows that attribute and class occur together much more than ramdomly, but coefficient describes the size and direction of the relationship between a predictor and the feature."
   ]
  },
  {
   "cell_type": "markdown",
   "metadata": {},
   "source": [
    "## Question 6: Evaluation [1 mark]\n",
    "\n",
    "We will evaluate our baselines and classifiers on the instances in the test set. \n",
    "\n",
    "Compute \n",
    "- accuracy\n",
    "- macro-averaged F1 score \n",
    "\n",
    "for the two baselines, the three NB classifiers and the LR classifier.\n",
    "\n",
    "**You may use existing implementations and/or Python libraries like numpy, scipy or sklearn.**"
   ]
  },
  {
   "cell_type": "code",
   "execution_count": 43,
   "metadata": {},
   "outputs": [
    {
     "name": "stdout",
     "output_type": "stream",
     "text": [
      "Zero R\t\tAccuracy: 0.76\tMacro F1: 0.43\n",
      "One  R\t\tAccuracy: 0.77\tMacro F1: 0.46\n",
      "NB Num \t\tAccuracy: 0.8\tMacro F1: 0.64\n",
      "NB Cat \t\tAccuracy: 0.76\tMacro F1: 0.72\n",
      "NB Full \tAccuracy: 0.79\tMacro F1: 0.64\n",
      "LR \t\tAccuracy: 0.8\tMacro F1: 0.63\n"
     ]
    }
   ],
   "source": [
    "zero_r_acc = 0\n",
    "zero_r_f1 = 0\n",
    "\n",
    "one_r_acc = 0\n",
    "one_r_f1 = 0\n",
    "\n",
    "num_nb_acc = 0\n",
    "num_nb_f1 = 0\n",
    "\n",
    "cat_nb_acc = 0\n",
    "cat_nb_f1 = 0\n",
    "\n",
    "full_nb_acc = 0\n",
    "full_nb_f1 = 0\n",
    "\n",
    "lr_acc = 0\n",
    "lr_f1 = 0\n",
    "\n",
    "############################\n",
    "## your code begins here\n",
    "############################\n",
    "\n",
    "from sklearn.metrics import f1_score\n",
    "from sklearn.metrics import accuracy_score  \n",
    "\n",
    "zero_r_acc = accuracy_score(y_test, zero_r_predictions)\n",
    "zero_r_f1 = f1_score(y_test, zero_r_predictions, average='macro')\n",
    "\n",
    "one_r_acc = accuracy_score(y_test, one_r_predictions)\n",
    "one_r_f1 = f1_score(y_test, one_r_predictions, average='macro')\n",
    "\n",
    "num_nb_acc = accuracy_score(y_test, numeric_nb_predictions)\n",
    "num_nb_f1 = f1_score(y_test, numeric_nb_predictions, average='macro')\n",
    "\n",
    "cat_nb_acc = accuracy_score(y_test, categorical_nb_predictions)\n",
    "cat_nb_f1 = f1_score(y_test, categorical_nb_predictions, average='macro')\n",
    "\n",
    "full_nb_acc = accuracy_score(y_test, full_nb_predictions)\n",
    "full_nb_f1 = f1_score(y_test, full_nb_predictions, average='macro')\n",
    "\n",
    "lr_acc = accuracy_score(y_test, lr_predictions)\n",
    "lr_f1 = f1_score(y_test, lr_predictions, average='macro')\n",
    "\n",
    "############################\n",
    "## your code ends here\n",
    "############################\n",
    "\n",
    "print(f\"Zero R\\t\\tAccuracy: {round(zero_r_acc, 2)}\\tMacro F1: {round(zero_r_f1, 2)}\")\n",
    "print(f\"One  R\\t\\tAccuracy: {round(one_r_acc, 2)}\\tMacro F1: {round(one_r_f1, 2)}\")\n",
    "print(f\"NB Num \\t\\tAccuracy: {round(num_nb_acc, 2)}\\tMacro F1: {round(num_nb_f1, 2)}\")\n",
    "print(f\"NB Cat \\t\\tAccuracy: {round(cat_nb_acc, 2)}\\tMacro F1: {round(cat_nb_f1, 2)}\")\n",
    "print(f\"NB Full \\tAccuracy: {round(full_nb_acc, 2)}\\tMacro F1: {round(full_nb_f1, 2)}\")\n",
    "print(f\"LR \\t\\tAccuracy: {round(lr_acc, 2)}\\tMacro F1: {round(lr_f1, 2)}\")"
   ]
  },
  {
   "cell_type": "markdown",
   "metadata": {},
   "source": [
    "## Question 7: Discussion [5 marks]\n",
    "\n",
    "Critically analyze the performance of the models by answering the following questions. \n",
    "\n",
    "**(a)** The three Naive Bayes (NB) classifiers lead to different performance. Which of the three NB classifiers performs best, and why do you think it is the case? **[1 mark]**\n",
    "\n",
    "**(b)** There is a systematic difference between Accuracy and F1 score, across all models. Describe and explain the difference in the context of the data set. **[1 mark]**\n",
    "\n",
    "**(c)** Assume that your best classifier will be deployed in a bank to decide whether a customer will be granted a loan, or not. A loan will be granted if the classifier predicts an income of \">50K\", othewise it won't. The bank manager wants to avoid falsely granting a loan to an applicant with insufficient income by all means. Can you reassure the bank manager with the evaluation results in Q7 that your classifier is adequate? If not, describe an alternative evaluation metric and explain why it is more appropriate.\n",
    "\n",
    "**(d)** Do you observe a clear difference in performance between NB and Logistic Regression (LR) in Q7? Referring to the number of parameters and assumptions underlying each model, provide one reason why NB might outperform LR, and one reason why LR might outperform NB. In your answer, refer back to the *Adult* data set used in this assignment. **[1 mark]**\n",
    "\n",
    "**(e)** Assume that you have access to a (hypothetical) infinitely large U.S. census database (i.e., an enormous version of the *Adult* data set used in this assignment). Is it true that Logistic Regression, but not Naive Bayes, will achieve perfect test set performance? Why (not)? **[1 mark]**\n",
    "\n",
    "<b>We expect a maximum of 2-3 sentences per questinon."
   ]
  },
  {
   "cell_type": "markdown",
   "metadata": {},
   "source": [
    "_Your answer here_\n",
    "\n",
    "(a) The NB classifiers for 1-hot encoded (binary) categorical attributes performs best, because it has the highest Macro F1-score, which gives a better measure of the incorrectly classified cases than the accuracy.\n",
    "\n",
    "\n",
    "(b) Accuracy is usually larger than F1-score, because accuracy only cares about correct predictions, but F1-score also cares about incorrect classifications. Because F1-score is the harmonic mean of Precision and Recall, Precision shows how precise the model is out of those predicted positive, Recall calculates the percentage of actual positives the model correctly classified.\n",
    "\n",
    "\n",
    "(c) No, I can't. Because in this case, the bank manager wants to avoid falsely granting a loan to an applicant with insufficient income, the FP (classify people with \"<=50K\" into \">50K\") should be low, in a result, Precision should be the evaluation metric, $ Precision = \\frac{TP}{TP+FP} $, the lower the FP is, the higer the Precision is.\n",
    "\n",
    "\n",
    "(d) There are no clear differences in performance between NB and LR in Q7 based on accuracy.  \n",
    "If some of the features are dependent on each other, LR might outperform NB. For example, education is usually dependent on education-num.  \n",
    "When the training data size is small, NB might outperform LR. For example, if there are only 500 instances training dataset and each instance has 104 features, LR won't perform good.\n",
    "\n",
    "\n",
    "(e) No, we can't judge which model is better only by the large size of the training set. Although LR often needs a lot of data to work well, NB can also work well in large training dataset if independent assumption holds."
   ]
  },
  {
   "cell_type": "markdown",
   "metadata": {},
   "source": [
    "## Final thoughts ...\n",
    "\n",
    "Do you think it is ethical and safe to build and deploy income-level classifiers based on the set of attributes provided with the data set? Could such a classifier do harm if not developed, tested and deployed carefully?\n",
    "\n",
    "When predicting the income of a person, should demographic attributes like 'gender' or 'race' even be considered? Due to historical events there are systematic income differences between men/women and people of different ethnicities. But no doubt these are *correlations* and not factors to be used to *predict* income in the future. \n",
    "\n",
    "But ML models are only as good as their input data: a naively developed ML algorithm will reflect, and often amplify, biases in the data.\n",
    "\n",
    "In the last 1-2 weeks of this subject we will discuss ethics in machine learning and look at questions such as\n",
    "- historical artifacts which lead to biased data sets, and hence potentially biased ML algorithms\n",
    "- how to determine whether an algorithm is indeed biased\n",
    "- how to mitigate bias in the data and in algorithms\n",
    "\n"
   ]
  }
 ],
 "metadata": {
  "kernelspec": {
   "display_name": "Python 3",
   "language": "python",
   "name": "python3"
  },
  "language_info": {
   "codemirror_mode": {
    "name": "ipython",
    "version": 3
   },
   "file_extension": ".py",
   "mimetype": "text/x-python",
   "name": "python",
   "nbconvert_exporter": "python",
   "pygments_lexer": "ipython3",
   "version": "3.7.4"
  }
 },
 "nbformat": 4,
 "nbformat_minor": 4
}
